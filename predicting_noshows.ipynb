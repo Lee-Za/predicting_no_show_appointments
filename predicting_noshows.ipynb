{
 "cells": [
  {
   "cell_type": "markdown",
   "id": "0a81afc9-a5d3-48a5-9d7a-2795ec6c6069",
   "metadata": {},
   "source": [
    "# Predicting No Show Appointments in Brazil (Kaggle Challenge)"
   ]
  },
  {
   "cell_type": "markdown",
   "id": "a758f917-44ae-498d-b4c6-ed59b39b39fe",
   "metadata": {},
   "source": [
    "#### How likely is a patient with certain attributes, to show up to his hospital appointment? \n",
    "\n",
    "In this project we investigate a data set of appoinment records in public hospitals in Vitoria, Espirito Santo, Brazil. The data includes whether the patient showed up to the appointment, which is the main focus, as well as other attributes of the patient and the appointment.\n",
    "\n",
    "The data set is provided by JoniHoppen on [Kaggle](https://www.kaggle.com/joniarroba/noshowappointments)."
   ]
  },
  {
   "cell_type": "code",
   "execution_count": 51,
   "id": "b3d2d01c-7dd6-4061-b3c9-97820f7bee20",
   "metadata": {},
   "outputs": [],
   "source": [
    "import pandas as pd"
   ]
  },
  {
   "cell_type": "markdown",
   "id": "21ec250e-e5b4-457d-8e74-d5e8e732d4e2",
   "metadata": {},
   "source": [
    "---"
   ]
  },
  {
   "cell_type": "markdown",
   "id": "c86dbd02-c5bd-431a-8794-3b4f7b9b6d17",
   "metadata": {},
   "source": [
    "#### Opening Dataset"
   ]
  },
  {
   "cell_type": "code",
   "execution_count": 52,
   "id": "ee10c55f-6558-45ff-bb9a-e1524406bfbc",
   "metadata": {},
   "outputs": [
    {
     "data": {
      "text/html": [
       "<div>\n",
       "<style scoped>\n",
       "    .dataframe tbody tr th:only-of-type {\n",
       "        vertical-align: middle;\n",
       "    }\n",
       "\n",
       "    .dataframe tbody tr th {\n",
       "        vertical-align: top;\n",
       "    }\n",
       "\n",
       "    .dataframe thead th {\n",
       "        text-align: right;\n",
       "    }\n",
       "</style>\n",
       "<table border=\"1\" class=\"dataframe\">\n",
       "  <thead>\n",
       "    <tr style=\"text-align: right;\">\n",
       "      <th></th>\n",
       "      <th>PatientId</th>\n",
       "      <th>AppointmentID</th>\n",
       "      <th>Gender</th>\n",
       "      <th>ScheduledDay</th>\n",
       "      <th>AppointmentDay</th>\n",
       "      <th>Age</th>\n",
       "      <th>Neighbourhood</th>\n",
       "      <th>Scholarship</th>\n",
       "      <th>Hipertension</th>\n",
       "      <th>Diabetes</th>\n",
       "      <th>Alcoholism</th>\n",
       "      <th>Handcap</th>\n",
       "      <th>SMS_received</th>\n",
       "      <th>No-show</th>\n",
       "    </tr>\n",
       "  </thead>\n",
       "  <tbody>\n",
       "    <tr>\n",
       "      <th>0</th>\n",
       "      <td>2.987250e+13</td>\n",
       "      <td>5642903</td>\n",
       "      <td>F</td>\n",
       "      <td>2016-04-29T18:38:08Z</td>\n",
       "      <td>2016-04-29T00:00:00Z</td>\n",
       "      <td>62</td>\n",
       "      <td>JARDIM DA PENHA</td>\n",
       "      <td>0</td>\n",
       "      <td>1</td>\n",
       "      <td>0</td>\n",
       "      <td>0</td>\n",
       "      <td>0</td>\n",
       "      <td>0</td>\n",
       "      <td>No</td>\n",
       "    </tr>\n",
       "    <tr>\n",
       "      <th>1</th>\n",
       "      <td>5.589978e+14</td>\n",
       "      <td>5642503</td>\n",
       "      <td>M</td>\n",
       "      <td>2016-04-29T16:08:27Z</td>\n",
       "      <td>2016-04-29T00:00:00Z</td>\n",
       "      <td>56</td>\n",
       "      <td>JARDIM DA PENHA</td>\n",
       "      <td>0</td>\n",
       "      <td>0</td>\n",
       "      <td>0</td>\n",
       "      <td>0</td>\n",
       "      <td>0</td>\n",
       "      <td>0</td>\n",
       "      <td>No</td>\n",
       "    </tr>\n",
       "    <tr>\n",
       "      <th>2</th>\n",
       "      <td>4.262962e+12</td>\n",
       "      <td>5642549</td>\n",
       "      <td>F</td>\n",
       "      <td>2016-04-29T16:19:04Z</td>\n",
       "      <td>2016-04-29T00:00:00Z</td>\n",
       "      <td>62</td>\n",
       "      <td>MATA DA PRAIA</td>\n",
       "      <td>0</td>\n",
       "      <td>0</td>\n",
       "      <td>0</td>\n",
       "      <td>0</td>\n",
       "      <td>0</td>\n",
       "      <td>0</td>\n",
       "      <td>No</td>\n",
       "    </tr>\n",
       "  </tbody>\n",
       "</table>\n",
       "</div>"
      ],
      "text/plain": [
       "      PatientId  AppointmentID Gender          ScheduledDay  \\\n",
       "0  2.987250e+13        5642903      F  2016-04-29T18:38:08Z   \n",
       "1  5.589978e+14        5642503      M  2016-04-29T16:08:27Z   \n",
       "2  4.262962e+12        5642549      F  2016-04-29T16:19:04Z   \n",
       "\n",
       "         AppointmentDay  Age    Neighbourhood  Scholarship  Hipertension  \\\n",
       "0  2016-04-29T00:00:00Z   62  JARDIM DA PENHA            0             1   \n",
       "1  2016-04-29T00:00:00Z   56  JARDIM DA PENHA            0             0   \n",
       "2  2016-04-29T00:00:00Z   62    MATA DA PRAIA            0             0   \n",
       "\n",
       "   Diabetes  Alcoholism  Handcap  SMS_received No-show  \n",
       "0         0           0        0             0      No  \n",
       "1         0           0        0             0      No  \n",
       "2         0           0        0             0      No  "
      ]
     },
     "execution_count": 52,
     "metadata": {},
     "output_type": "execute_result"
    }
   ],
   "source": [
    "df = pd.read_csv('noshowappointments-kagglev2-may-2016.csv', parse_dates=True)\n",
    "df.head(3)"
   ]
  },
  {
   "cell_type": "markdown",
   "id": "8faaccee-9b9f-4a20-99f7-877e6730e5c1",
   "metadata": {},
   "source": [
    "#### Dataset Overview"
   ]
  },
  {
   "cell_type": "code",
   "execution_count": 53,
   "id": "738ffdc9-d24a-4bb4-8336-1e7e3c65052a",
   "metadata": {},
   "outputs": [
    {
     "data": {
      "text/plain": [
       "(110527, 14)"
      ]
     },
     "execution_count": 53,
     "metadata": {},
     "output_type": "execute_result"
    }
   ],
   "source": [
    "df.shape"
   ]
  },
  {
   "cell_type": "markdown",
   "id": "d0bd77f2-b3b9-4689-8081-82060892d0bb",
   "metadata": {},
   "source": [
    "we have more than 100,000 cases and 14 attributes "
   ]
  },
  {
   "cell_type": "code",
   "execution_count": 54,
   "id": "227575f3-c916-469c-98c9-57984fcb62b1",
   "metadata": {},
   "outputs": [
    {
     "name": "stdout",
     "output_type": "stream",
     "text": [
      "<class 'pandas.core.frame.DataFrame'>\n",
      "RangeIndex: 110527 entries, 0 to 110526\n",
      "Data columns (total 14 columns):\n",
      " #   Column          Non-Null Count   Dtype  \n",
      "---  ------          --------------   -----  \n",
      " 0   PatientId       110527 non-null  float64\n",
      " 1   AppointmentID   110527 non-null  int64  \n",
      " 2   Gender          110527 non-null  object \n",
      " 3   ScheduledDay    110527 non-null  object \n",
      " 4   AppointmentDay  110527 non-null  object \n",
      " 5   Age             110527 non-null  int64  \n",
      " 6   Neighbourhood   110527 non-null  object \n",
      " 7   Scholarship     110527 non-null  int64  \n",
      " 8   Hipertension    110527 non-null  int64  \n",
      " 9   Diabetes        110527 non-null  int64  \n",
      " 10  Alcoholism      110527 non-null  int64  \n",
      " 11  Handcap         110527 non-null  int64  \n",
      " 12  SMS_received    110527 non-null  int64  \n",
      " 13  No-show         110527 non-null  object \n",
      "dtypes: float64(1), int64(8), object(5)\n",
      "memory usage: 11.8+ MB\n"
     ]
    }
   ],
   "source": [
    "df.info()"
   ]
  },
  {
   "cell_type": "markdown",
   "id": "8ae090a1-e404-43ba-a65d-89982249a491",
   "metadata": {},
   "source": [
    "no missing values, but problem with datetime"
   ]
  },
  {
   "cell_type": "markdown",
   "id": "5f60b92d-d3cc-440c-be10-d9e2317b2cb2",
   "metadata": {},
   "source": [
    "---"
   ]
  },
  {
   "cell_type": "markdown",
   "id": "3ac2e206-b5bc-4bd5-a233-c45357f52e6c",
   "metadata": {},
   "source": [
    "## Data Wrangling "
   ]
  },
  {
   "cell_type": "markdown",
   "id": "397b7174-b7a5-4dc3-8544-0a35542c4538",
   "metadata": {},
   "source": [
    "#### New Columns for Date and Time"
   ]
  },
  {
   "cell_type": "code",
   "execution_count": 55,
   "id": "2a57ffbf-8e73-499d-a8b5-b303efab283c",
   "metadata": {},
   "outputs": [
    {
     "data": {
      "text/html": [
       "<div>\n",
       "<style scoped>\n",
       "    .dataframe tbody tr th:only-of-type {\n",
       "        vertical-align: middle;\n",
       "    }\n",
       "\n",
       "    .dataframe tbody tr th {\n",
       "        vertical-align: top;\n",
       "    }\n",
       "\n",
       "    .dataframe thead th {\n",
       "        text-align: right;\n",
       "    }\n",
       "</style>\n",
       "<table border=\"1\" class=\"dataframe\">\n",
       "  <thead>\n",
       "    <tr style=\"text-align: right;\">\n",
       "      <th></th>\n",
       "      <th>PatientId</th>\n",
       "      <th>AppointmentID</th>\n",
       "      <th>Gender</th>\n",
       "      <th>ScheduledDay</th>\n",
       "      <th>AppointmentDay</th>\n",
       "      <th>Age</th>\n",
       "      <th>Neighbourhood</th>\n",
       "      <th>Scholarship</th>\n",
       "      <th>Hipertension</th>\n",
       "      <th>Diabetes</th>\n",
       "      <th>Alcoholism</th>\n",
       "      <th>Handcap</th>\n",
       "      <th>SMS_received</th>\n",
       "      <th>No-show</th>\n",
       "      <th>Scheduled_Day</th>\n",
       "      <th>Scheduled_Hour</th>\n",
       "    </tr>\n",
       "  </thead>\n",
       "  <tbody>\n",
       "    <tr>\n",
       "      <th>0</th>\n",
       "      <td>2.987250e+13</td>\n",
       "      <td>5642903</td>\n",
       "      <td>F</td>\n",
       "      <td>2016-04-29T18:38:08Z</td>\n",
       "      <td>2016-04-29T00:00:00Z</td>\n",
       "      <td>62</td>\n",
       "      <td>JARDIM DA PENHA</td>\n",
       "      <td>0</td>\n",
       "      <td>1</td>\n",
       "      <td>0</td>\n",
       "      <td>0</td>\n",
       "      <td>0</td>\n",
       "      <td>0</td>\n",
       "      <td>No</td>\n",
       "      <td>2016-04-29</td>\n",
       "      <td>18:38:08Z</td>\n",
       "    </tr>\n",
       "  </tbody>\n",
       "</table>\n",
       "</div>"
      ],
      "text/plain": [
       "      PatientId  AppointmentID Gender          ScheduledDay  \\\n",
       "0  2.987250e+13        5642903      F  2016-04-29T18:38:08Z   \n",
       "\n",
       "         AppointmentDay  Age    Neighbourhood  Scholarship  Hipertension  \\\n",
       "0  2016-04-29T00:00:00Z   62  JARDIM DA PENHA            0             1   \n",
       "\n",
       "   Diabetes  Alcoholism  Handcap  SMS_received No-show Scheduled_Day  \\\n",
       "0         0           0        0             0      No    2016-04-29   \n",
       "\n",
       "  Scheduled_Hour  \n",
       "0      18:38:08Z  "
      ]
     },
     "execution_count": 55,
     "metadata": {},
     "output_type": "execute_result"
    }
   ],
   "source": [
    "df[['Scheduled_Day', 'Scheduled_Hour']] = df['ScheduledDay'].str.split('T', expand=True)\n",
    "df.head(1)"
   ]
  },
  {
   "cell_type": "code",
   "execution_count": 56,
   "id": "a18da279-d527-472b-afc0-857a8a257108",
   "metadata": {},
   "outputs": [
    {
     "data": {
      "text/html": [
       "<div>\n",
       "<style scoped>\n",
       "    .dataframe tbody tr th:only-of-type {\n",
       "        vertical-align: middle;\n",
       "    }\n",
       "\n",
       "    .dataframe tbody tr th {\n",
       "        vertical-align: top;\n",
       "    }\n",
       "\n",
       "    .dataframe thead th {\n",
       "        text-align: right;\n",
       "    }\n",
       "</style>\n",
       "<table border=\"1\" class=\"dataframe\">\n",
       "  <thead>\n",
       "    <tr style=\"text-align: right;\">\n",
       "      <th></th>\n",
       "      <th>PatientId</th>\n",
       "      <th>AppointmentID</th>\n",
       "      <th>Gender</th>\n",
       "      <th>Age</th>\n",
       "      <th>Neighbourhood</th>\n",
       "      <th>Scholarship</th>\n",
       "      <th>Hipertension</th>\n",
       "      <th>Diabetes</th>\n",
       "      <th>Alcoholism</th>\n",
       "      <th>Handcap</th>\n",
       "      <th>SMS_received</th>\n",
       "      <th>No-show</th>\n",
       "      <th>Scheduled_Day</th>\n",
       "      <th>Scheduled_Hour</th>\n",
       "      <th>Appointment_Day</th>\n",
       "    </tr>\n",
       "  </thead>\n",
       "  <tbody>\n",
       "    <tr>\n",
       "      <th>0</th>\n",
       "      <td>2.987250e+13</td>\n",
       "      <td>5642903</td>\n",
       "      <td>F</td>\n",
       "      <td>62</td>\n",
       "      <td>JARDIM DA PENHA</td>\n",
       "      <td>0</td>\n",
       "      <td>1</td>\n",
       "      <td>0</td>\n",
       "      <td>0</td>\n",
       "      <td>0</td>\n",
       "      <td>0</td>\n",
       "      <td>No</td>\n",
       "      <td>2016-04-29</td>\n",
       "      <td>18:38:08</td>\n",
       "      <td>2016-04-29</td>\n",
       "    </tr>\n",
       "    <tr>\n",
       "      <th>1</th>\n",
       "      <td>5.589978e+14</td>\n",
       "      <td>5642503</td>\n",
       "      <td>M</td>\n",
       "      <td>56</td>\n",
       "      <td>JARDIM DA PENHA</td>\n",
       "      <td>0</td>\n",
       "      <td>0</td>\n",
       "      <td>0</td>\n",
       "      <td>0</td>\n",
       "      <td>0</td>\n",
       "      <td>0</td>\n",
       "      <td>No</td>\n",
       "      <td>2016-04-29</td>\n",
       "      <td>16:08:27</td>\n",
       "      <td>2016-04-29</td>\n",
       "    </tr>\n",
       "    <tr>\n",
       "      <th>2</th>\n",
       "      <td>4.262962e+12</td>\n",
       "      <td>5642549</td>\n",
       "      <td>F</td>\n",
       "      <td>62</td>\n",
       "      <td>MATA DA PRAIA</td>\n",
       "      <td>0</td>\n",
       "      <td>0</td>\n",
       "      <td>0</td>\n",
       "      <td>0</td>\n",
       "      <td>0</td>\n",
       "      <td>0</td>\n",
       "      <td>No</td>\n",
       "      <td>2016-04-29</td>\n",
       "      <td>16:19:04</td>\n",
       "      <td>2016-04-29</td>\n",
       "    </tr>\n",
       "    <tr>\n",
       "      <th>3</th>\n",
       "      <td>8.679512e+11</td>\n",
       "      <td>5642828</td>\n",
       "      <td>F</td>\n",
       "      <td>8</td>\n",
       "      <td>PONTAL DE CAMBURI</td>\n",
       "      <td>0</td>\n",
       "      <td>0</td>\n",
       "      <td>0</td>\n",
       "      <td>0</td>\n",
       "      <td>0</td>\n",
       "      <td>0</td>\n",
       "      <td>No</td>\n",
       "      <td>2016-04-29</td>\n",
       "      <td>17:29:31</td>\n",
       "      <td>2016-04-29</td>\n",
       "    </tr>\n",
       "    <tr>\n",
       "      <th>4</th>\n",
       "      <td>8.841186e+12</td>\n",
       "      <td>5642494</td>\n",
       "      <td>F</td>\n",
       "      <td>56</td>\n",
       "      <td>JARDIM DA PENHA</td>\n",
       "      <td>0</td>\n",
       "      <td>1</td>\n",
       "      <td>1</td>\n",
       "      <td>0</td>\n",
       "      <td>0</td>\n",
       "      <td>0</td>\n",
       "      <td>No</td>\n",
       "      <td>2016-04-29</td>\n",
       "      <td>16:07:23</td>\n",
       "      <td>2016-04-29</td>\n",
       "    </tr>\n",
       "  </tbody>\n",
       "</table>\n",
       "</div>"
      ],
      "text/plain": [
       "      PatientId  AppointmentID Gender  Age      Neighbourhood  Scholarship  \\\n",
       "0  2.987250e+13        5642903      F   62    JARDIM DA PENHA            0   \n",
       "1  5.589978e+14        5642503      M   56    JARDIM DA PENHA            0   \n",
       "2  4.262962e+12        5642549      F   62      MATA DA PRAIA            0   \n",
       "3  8.679512e+11        5642828      F    8  PONTAL DE CAMBURI            0   \n",
       "4  8.841186e+12        5642494      F   56    JARDIM DA PENHA            0   \n",
       "\n",
       "   Hipertension  Diabetes  Alcoholism  Handcap  SMS_received No-show  \\\n",
       "0             1         0           0        0             0      No   \n",
       "1             0         0           0        0             0      No   \n",
       "2             0         0           0        0             0      No   \n",
       "3             0         0           0        0             0      No   \n",
       "4             1         1           0        0             0      No   \n",
       "\n",
       "  Scheduled_Day Scheduled_Hour Appointment_Day  \n",
       "0    2016-04-29       18:38:08      2016-04-29  \n",
       "1    2016-04-29       16:08:27      2016-04-29  \n",
       "2    2016-04-29       16:19:04      2016-04-29  \n",
       "3    2016-04-29       17:29:31      2016-04-29  \n",
       "4    2016-04-29       16:07:23      2016-04-29  "
      ]
     },
     "execution_count": 56,
     "metadata": {},
     "output_type": "execute_result"
    }
   ],
   "source": [
    "df['Scheduled_Day'] = pd.to_datetime(df['Scheduled_Day']).dt.date\n",
    "df['Scheduled_Hour'] = pd.to_datetime(df['Scheduled_Hour']).dt.time\n",
    "df['Appointment_Day'] = pd.to_datetime(df['AppointmentDay']).dt.date\n",
    "del df['ScheduledDay']\n",
    "del df['AppointmentDay']\n",
    "df.head(5)"
   ]
  },
  {
   "cell_type": "markdown",
   "id": "47672000-d84c-4e5a-93f9-c98f7e32e0ff",
   "metadata": {},
   "source": [
    "The time of the appointment is not recorded!"
   ]
  },
  {
   "cell_type": "markdown",
   "id": "2c5929a2-fc61-4829-8269-1b2237a737c3",
   "metadata": {},
   "source": [
    "#### New Column for Day of the Week"
   ]
  },
  {
   "cell_type": "code",
   "execution_count": 57,
   "id": "2d8ebf21-b1a1-4bea-a91e-42b4170726f3",
   "metadata": {},
   "outputs": [
    {
     "name": "stdout",
     "output_type": "stream",
     "text": [
      "<class 'pandas.core.frame.DataFrame'>\n",
      "RangeIndex: 110527 entries, 0 to 110526\n",
      "Data columns (total 15 columns):\n",
      " #   Column           Non-Null Count   Dtype  \n",
      "---  ------           --------------   -----  \n",
      " 0   PatientId        110527 non-null  float64\n",
      " 1   AppointmentID    110527 non-null  int64  \n",
      " 2   Gender           110527 non-null  object \n",
      " 3   Age              110527 non-null  int64  \n",
      " 4   Neighbourhood    110527 non-null  object \n",
      " 5   Scholarship      110527 non-null  int64  \n",
      " 6   Hipertension     110527 non-null  int64  \n",
      " 7   Diabetes         110527 non-null  int64  \n",
      " 8   Alcoholism       110527 non-null  int64  \n",
      " 9   Handcap          110527 non-null  int64  \n",
      " 10  SMS_received     110527 non-null  int64  \n",
      " 11  No-show          110527 non-null  object \n",
      " 12  Scheduled_Day    110527 non-null  object \n",
      " 13  Scheduled_Hour   110527 non-null  object \n",
      " 14  Appointment_Day  110527 non-null  object \n",
      "dtypes: float64(1), int64(8), object(6)\n",
      "memory usage: 12.6+ MB\n"
     ]
    }
   ],
   "source": [
    "df.info() #still problem with datetime"
   ]
  },
  {
   "cell_type": "code",
   "execution_count": 58,
   "id": "8a1bf759-d305-4c9a-a318-0105c168fd1b",
   "metadata": {},
   "outputs": [],
   "source": [
    "df['Scheduled_Day'] = pd.to_datetime(df['Scheduled_Day'])"
   ]
  },
  {
   "cell_type": "code",
   "execution_count": 59,
   "id": "0a096b6b-4666-4696-a8f2-6380fdcd9c32",
   "metadata": {
    "tags": []
   },
   "outputs": [],
   "source": [
    "# df['Scheduled_Hour'] = pd.to_datetime(df['Scheduled_Hour'])    # hour is not convertible to datetime!?"
   ]
  },
  {
   "cell_type": "code",
   "execution_count": 60,
   "id": "7e344ef5-ff0c-4af5-b7ad-fe6aa36b9e53",
   "metadata": {},
   "outputs": [],
   "source": [
    "df['Appointment_Day'] = pd.to_datetime(df['Appointment_Day'])"
   ]
  },
  {
   "cell_type": "markdown",
   "id": "0e374bc8-5d48-408f-bab1-df5e81a86c11",
   "metadata": {},
   "source": [
    "now convert the dates to days of week!"
   ]
  },
  {
   "cell_type": "code",
   "execution_count": 61,
   "id": "dfbf8733-19a8-42c8-9aea-784da6fafa6a",
   "metadata": {},
   "outputs": [],
   "source": [
    "df['Appointment_Weekday'] = (df.Appointment_Day.dt.dayofweek)"
   ]
  },
  {
   "cell_type": "code",
   "execution_count": 62,
   "id": "08e1f5c4-e893-4a6c-a16c-9d00e69334c5",
   "metadata": {},
   "outputs": [],
   "source": [
    "df['Scheduled_Weekday'] = (df.Scheduled_Day.dt.dayofweek)"
   ]
  },
  {
   "cell_type": "markdown",
   "id": "98ef23c7-51f5-46d8-ab4a-5f03869c94d5",
   "metadata": {},
   "source": [
    "Mondays are 0 and Sundays are 6"
   ]
  },
  {
   "cell_type": "markdown",
   "id": "c9f1ea71-75b9-44cb-a699-a229e3b86afc",
   "metadata": {},
   "source": [
    "#### Creating Column for the waiting days between Scheduled and Appointment"
   ]
  },
  {
   "cell_type": "code",
   "execution_count": 63,
   "id": "9338d481-b12f-478c-af67-4c62f55e7469",
   "metadata": {},
   "outputs": [],
   "source": [
    "# substract scheduled date from appointment date\n",
    "df['Waiting_Days']=df['Appointment_Day']-df['Scheduled_Day']"
   ]
  },
  {
   "cell_type": "code",
   "execution_count": 64,
   "id": "da0d38aa-c13f-464a-a299-923055917670",
   "metadata": {},
   "outputs": [
    {
     "data": {
      "text/html": [
       "<div>\n",
       "<style scoped>\n",
       "    .dataframe tbody tr th:only-of-type {\n",
       "        vertical-align: middle;\n",
       "    }\n",
       "\n",
       "    .dataframe tbody tr th {\n",
       "        vertical-align: top;\n",
       "    }\n",
       "\n",
       "    .dataframe thead th {\n",
       "        text-align: right;\n",
       "    }\n",
       "</style>\n",
       "<table border=\"1\" class=\"dataframe\">\n",
       "  <thead>\n",
       "    <tr style=\"text-align: right;\">\n",
       "      <th></th>\n",
       "      <th>PatientId</th>\n",
       "      <th>AppointmentID</th>\n",
       "      <th>Gender</th>\n",
       "      <th>Age</th>\n",
       "      <th>Neighbourhood</th>\n",
       "      <th>Scholarship</th>\n",
       "      <th>Hipertension</th>\n",
       "      <th>Diabetes</th>\n",
       "      <th>Alcoholism</th>\n",
       "      <th>Handcap</th>\n",
       "      <th>SMS_received</th>\n",
       "      <th>No-show</th>\n",
       "      <th>Scheduled_Day</th>\n",
       "      <th>Scheduled_Hour</th>\n",
       "      <th>Appointment_Day</th>\n",
       "      <th>Appointment_Weekday</th>\n",
       "      <th>Scheduled_Weekday</th>\n",
       "      <th>Waiting_Days</th>\n",
       "    </tr>\n",
       "  </thead>\n",
       "  <tbody>\n",
       "    <tr>\n",
       "      <th>110524</th>\n",
       "      <td>1.557663e+13</td>\n",
       "      <td>5630692</td>\n",
       "      <td>F</td>\n",
       "      <td>21</td>\n",
       "      <td>MARIA ORTIZ</td>\n",
       "      <td>0</td>\n",
       "      <td>0</td>\n",
       "      <td>0</td>\n",
       "      <td>0</td>\n",
       "      <td>0</td>\n",
       "      <td>1</td>\n",
       "      <td>No</td>\n",
       "      <td>2016-04-27</td>\n",
       "      <td>16:03:52</td>\n",
       "      <td>2016-06-07</td>\n",
       "      <td>1</td>\n",
       "      <td>2</td>\n",
       "      <td>41 days</td>\n",
       "    </tr>\n",
       "    <tr>\n",
       "      <th>110525</th>\n",
       "      <td>9.213493e+13</td>\n",
       "      <td>5630323</td>\n",
       "      <td>F</td>\n",
       "      <td>38</td>\n",
       "      <td>MARIA ORTIZ</td>\n",
       "      <td>0</td>\n",
       "      <td>0</td>\n",
       "      <td>0</td>\n",
       "      <td>0</td>\n",
       "      <td>0</td>\n",
       "      <td>1</td>\n",
       "      <td>No</td>\n",
       "      <td>2016-04-27</td>\n",
       "      <td>15:09:23</td>\n",
       "      <td>2016-06-07</td>\n",
       "      <td>1</td>\n",
       "      <td>2</td>\n",
       "      <td>41 days</td>\n",
       "    </tr>\n",
       "    <tr>\n",
       "      <th>110526</th>\n",
       "      <td>3.775115e+14</td>\n",
       "      <td>5629448</td>\n",
       "      <td>F</td>\n",
       "      <td>54</td>\n",
       "      <td>MARIA ORTIZ</td>\n",
       "      <td>0</td>\n",
       "      <td>0</td>\n",
       "      <td>0</td>\n",
       "      <td>0</td>\n",
       "      <td>0</td>\n",
       "      <td>1</td>\n",
       "      <td>No</td>\n",
       "      <td>2016-04-27</td>\n",
       "      <td>13:30:56</td>\n",
       "      <td>2016-06-07</td>\n",
       "      <td>1</td>\n",
       "      <td>2</td>\n",
       "      <td>41 days</td>\n",
       "    </tr>\n",
       "  </tbody>\n",
       "</table>\n",
       "</div>"
      ],
      "text/plain": [
       "           PatientId  AppointmentID Gender  Age Neighbourhood  Scholarship  \\\n",
       "110524  1.557663e+13        5630692      F   21   MARIA ORTIZ            0   \n",
       "110525  9.213493e+13        5630323      F   38   MARIA ORTIZ            0   \n",
       "110526  3.775115e+14        5629448      F   54   MARIA ORTIZ            0   \n",
       "\n",
       "        Hipertension  Diabetes  Alcoholism  Handcap  SMS_received No-show  \\\n",
       "110524             0         0           0        0             1      No   \n",
       "110525             0         0           0        0             1      No   \n",
       "110526             0         0           0        0             1      No   \n",
       "\n",
       "       Scheduled_Day Scheduled_Hour Appointment_Day  Appointment_Weekday  \\\n",
       "110524    2016-04-27       16:03:52      2016-06-07                    1   \n",
       "110525    2016-04-27       15:09:23      2016-06-07                    1   \n",
       "110526    2016-04-27       13:30:56      2016-06-07                    1   \n",
       "\n",
       "        Scheduled_Weekday Waiting_Days  \n",
       "110524                  2      41 days  \n",
       "110525                  2      41 days  \n",
       "110526                  2      41 days  "
      ]
     },
     "execution_count": 64,
     "metadata": {},
     "output_type": "execute_result"
    }
   ],
   "source": [
    "df.tail(3)"
   ]
  },
  {
   "cell_type": "code",
   "execution_count": 65,
   "id": "5597f18b-33a2-46df-ade4-5fe16b57fa80",
   "metadata": {},
   "outputs": [
    {
     "data": {
      "text/plain": [
       "count                        110527\n",
       "mean     10 days 04:24:31.828602965\n",
       "std      15 days 06:07:11.673762786\n",
       "min               -6 days +00:00:00\n",
       "25%                 0 days 00:00:00\n",
       "50%                 4 days 00:00:00\n",
       "75%                15 days 00:00:00\n",
       "max               179 days 00:00:00\n",
       "Name: Waiting_Days, dtype: object"
      ]
     },
     "execution_count": 65,
     "metadata": {},
     "output_type": "execute_result"
    }
   ],
   "source": [
    "df.Waiting_Days.describe()"
   ]
  },
  {
   "cell_type": "markdown",
   "id": "561cdf48-47cb-4e21-bc8e-e4238bfdca51",
   "metadata": {},
   "source": [
    "there shouldnt be negative values!"
   ]
  },
  {
   "cell_type": "code",
   "execution_count": 66,
   "id": "c56765ae-e4eb-4bba-9ee5-e5acee97257d",
   "metadata": {},
   "outputs": [],
   "source": [
    "# change datatype from string to datetime to integer\n",
    "df.Waiting_Days = ((df.Waiting_Days.astype('timedelta64[D]')).astype(int))"
   ]
  },
  {
   "cell_type": "code",
   "execution_count": 67,
   "id": "d2795c55-cbf2-4391-ae5a-759dff58f118",
   "metadata": {},
   "outputs": [
    {
     "data": {
      "text/html": [
       "<div>\n",
       "<style scoped>\n",
       "    .dataframe tbody tr th:only-of-type {\n",
       "        vertical-align: middle;\n",
       "    }\n",
       "\n",
       "    .dataframe tbody tr th {\n",
       "        vertical-align: top;\n",
       "    }\n",
       "\n",
       "    .dataframe thead th {\n",
       "        text-align: right;\n",
       "    }\n",
       "</style>\n",
       "<table border=\"1\" class=\"dataframe\">\n",
       "  <thead>\n",
       "    <tr style=\"text-align: right;\">\n",
       "      <th></th>\n",
       "      <th>PatientId</th>\n",
       "      <th>AppointmentID</th>\n",
       "      <th>Gender</th>\n",
       "      <th>Age</th>\n",
       "      <th>Neighbourhood</th>\n",
       "      <th>Scholarship</th>\n",
       "      <th>Hipertension</th>\n",
       "      <th>Diabetes</th>\n",
       "      <th>Alcoholism</th>\n",
       "      <th>Handcap</th>\n",
       "      <th>SMS_received</th>\n",
       "      <th>No-show</th>\n",
       "      <th>Scheduled_Day</th>\n",
       "      <th>Scheduled_Hour</th>\n",
       "      <th>Appointment_Day</th>\n",
       "      <th>Appointment_Weekday</th>\n",
       "      <th>Scheduled_Weekday</th>\n",
       "      <th>Waiting_Days</th>\n",
       "    </tr>\n",
       "  </thead>\n",
       "  <tbody>\n",
       "    <tr>\n",
       "      <th>27033</th>\n",
       "      <td>7.839273e+12</td>\n",
       "      <td>5679978</td>\n",
       "      <td>M</td>\n",
       "      <td>38</td>\n",
       "      <td>RESISTÊNCIA</td>\n",
       "      <td>0</td>\n",
       "      <td>0</td>\n",
       "      <td>0</td>\n",
       "      <td>0</td>\n",
       "      <td>1</td>\n",
       "      <td>0</td>\n",
       "      <td>Yes</td>\n",
       "      <td>2016-05-10</td>\n",
       "      <td>10:51:53</td>\n",
       "      <td>2016-05-09</td>\n",
       "      <td>0</td>\n",
       "      <td>1</td>\n",
       "      <td>-1</td>\n",
       "    </tr>\n",
       "    <tr>\n",
       "      <th>55226</th>\n",
       "      <td>7.896294e+12</td>\n",
       "      <td>5715660</td>\n",
       "      <td>F</td>\n",
       "      <td>19</td>\n",
       "      <td>SANTO ANTÔNIO</td>\n",
       "      <td>0</td>\n",
       "      <td>0</td>\n",
       "      <td>0</td>\n",
       "      <td>0</td>\n",
       "      <td>1</td>\n",
       "      <td>0</td>\n",
       "      <td>Yes</td>\n",
       "      <td>2016-05-18</td>\n",
       "      <td>14:50:41</td>\n",
       "      <td>2016-05-17</td>\n",
       "      <td>1</td>\n",
       "      <td>2</td>\n",
       "      <td>-1</td>\n",
       "    </tr>\n",
       "    <tr>\n",
       "      <th>64175</th>\n",
       "      <td>2.425226e+13</td>\n",
       "      <td>5664962</td>\n",
       "      <td>F</td>\n",
       "      <td>22</td>\n",
       "      <td>CONSOLAÇÃO</td>\n",
       "      <td>0</td>\n",
       "      <td>0</td>\n",
       "      <td>0</td>\n",
       "      <td>0</td>\n",
       "      <td>0</td>\n",
       "      <td>0</td>\n",
       "      <td>Yes</td>\n",
       "      <td>2016-05-05</td>\n",
       "      <td>13:43:58</td>\n",
       "      <td>2016-05-04</td>\n",
       "      <td>2</td>\n",
       "      <td>3</td>\n",
       "      <td>-1</td>\n",
       "    </tr>\n",
       "    <tr>\n",
       "      <th>71533</th>\n",
       "      <td>9.982316e+14</td>\n",
       "      <td>5686628</td>\n",
       "      <td>F</td>\n",
       "      <td>81</td>\n",
       "      <td>SANTO ANTÔNIO</td>\n",
       "      <td>0</td>\n",
       "      <td>0</td>\n",
       "      <td>0</td>\n",
       "      <td>0</td>\n",
       "      <td>0</td>\n",
       "      <td>0</td>\n",
       "      <td>Yes</td>\n",
       "      <td>2016-05-11</td>\n",
       "      <td>13:49:20</td>\n",
       "      <td>2016-05-05</td>\n",
       "      <td>3</td>\n",
       "      <td>2</td>\n",
       "      <td>-6</td>\n",
       "    </tr>\n",
       "    <tr>\n",
       "      <th>72362</th>\n",
       "      <td>3.787482e+12</td>\n",
       "      <td>5655637</td>\n",
       "      <td>M</td>\n",
       "      <td>7</td>\n",
       "      <td>TABUAZEIRO</td>\n",
       "      <td>0</td>\n",
       "      <td>0</td>\n",
       "      <td>0</td>\n",
       "      <td>0</td>\n",
       "      <td>0</td>\n",
       "      <td>0</td>\n",
       "      <td>Yes</td>\n",
       "      <td>2016-05-04</td>\n",
       "      <td>06:50:57</td>\n",
       "      <td>2016-05-03</td>\n",
       "      <td>1</td>\n",
       "      <td>2</td>\n",
       "      <td>-1</td>\n",
       "    </tr>\n",
       "  </tbody>\n",
       "</table>\n",
       "</div>"
      ],
      "text/plain": [
       "          PatientId  AppointmentID Gender  Age  Neighbourhood  Scholarship  \\\n",
       "27033  7.839273e+12        5679978      M   38    RESISTÊNCIA            0   \n",
       "55226  7.896294e+12        5715660      F   19  SANTO ANTÔNIO            0   \n",
       "64175  2.425226e+13        5664962      F   22     CONSOLAÇÃO            0   \n",
       "71533  9.982316e+14        5686628      F   81  SANTO ANTÔNIO            0   \n",
       "72362  3.787482e+12        5655637      M    7     TABUAZEIRO            0   \n",
       "\n",
       "       Hipertension  Diabetes  Alcoholism  Handcap  SMS_received No-show  \\\n",
       "27033             0         0           0        1             0     Yes   \n",
       "55226             0         0           0        1             0     Yes   \n",
       "64175             0         0           0        0             0     Yes   \n",
       "71533             0         0           0        0             0     Yes   \n",
       "72362             0         0           0        0             0     Yes   \n",
       "\n",
       "      Scheduled_Day Scheduled_Hour Appointment_Day  Appointment_Weekday  \\\n",
       "27033    2016-05-10       10:51:53      2016-05-09                    0   \n",
       "55226    2016-05-18       14:50:41      2016-05-17                    1   \n",
       "64175    2016-05-05       13:43:58      2016-05-04                    2   \n",
       "71533    2016-05-11       13:49:20      2016-05-05                    3   \n",
       "72362    2016-05-04       06:50:57      2016-05-03                    1   \n",
       "\n",
       "       Scheduled_Weekday  Waiting_Days  \n",
       "27033                  1            -1  \n",
       "55226                  2            -1  \n",
       "64175                  3            -1  \n",
       "71533                  2            -6  \n",
       "72362                  2            -1  "
      ]
     },
     "execution_count": 67,
     "metadata": {},
     "output_type": "execute_result"
    }
   ],
   "source": [
    "# check for negative values\n",
    "df.loc[df['Waiting_Days'] < 0]\t"
   ]
  },
  {
   "cell_type": "code",
   "execution_count": 68,
   "id": "feb57a0e-e194-47fe-9f66-18db257893c0",
   "metadata": {},
   "outputs": [],
   "source": [
    "# drop those rows\n",
    "negatives = df[ df['Waiting_Days'] < 0 ].index\n",
    "df.drop(negatives, inplace=True)"
   ]
  },
  {
   "cell_type": "code",
   "execution_count": 69,
   "id": "5c8461b5-607b-408f-b3fb-efd202ba9a35",
   "metadata": {},
   "outputs": [
    {
     "data": {
      "text/plain": [
       "Int64Index([27033, 55226, 64175, 71533, 72362], dtype='int64')"
      ]
     },
     "execution_count": 69,
     "metadata": {},
     "output_type": "execute_result"
    }
   ],
   "source": [
    "negatives"
   ]
  },
  {
   "cell_type": "code",
   "execution_count": null,
   "id": "f1d1242f-d488-4e2d-ad86-a5a1ef83453f",
   "metadata": {},
   "outputs": [],
   "source": []
  }
 ],
 "metadata": {
  "kernelspec": {
   "display_name": "Python 3",
   "language": "python",
   "name": "python3"
  },
  "language_info": {
   "codemirror_mode": {
    "name": "ipython",
    "version": 3
   },
   "file_extension": ".py",
   "mimetype": "text/x-python",
   "name": "python",
   "nbconvert_exporter": "python",
   "pygments_lexer": "ipython3",
   "version": "3.8.8"
  }
 },
 "nbformat": 4,
 "nbformat_minor": 5
}
